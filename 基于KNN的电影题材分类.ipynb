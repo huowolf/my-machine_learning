{
 "cells": [
  {
   "cell_type": "code",
   "execution_count": 1,
   "metadata": {},
   "outputs": [],
   "source": [
    "import numpy as np\n",
    "import pandas as pd\n",
    "from collections import Counter"
   ]
  },
  {
   "cell_type": "code",
   "execution_count": 2,
   "metadata": {},
   "outputs": [],
   "source": [
    "def euclidean_distance(vec1,vec2):\n",
    "    return np.sqrt(np.sum(np.square(vec1 - vec2)))"
   ]
  },
  {
   "cell_type": "code",
   "execution_count": 3,
   "metadata": {},
   "outputs": [],
   "source": [
    "train_data = {'宝贝当家':[45,2,9,'喜剧片'],\n",
    "              '美人鱼':[21,17,5,'喜剧片'],\n",
    "              '澳门风云3':[54,9,11,'喜剧片'],\n",
    "              '功夫熊猫3':[39,0,31,'喜剧片'],\n",
    "              '谍影重重':[5,2,57,'动作片'],\n",
    "              '叶问3':[3,2,65,'动作片'],\n",
    "              '我的特工爷爷':[6,4,21,'动作片'],\n",
    "              '奔爱':[7,46,4,'爱情片'],\n",
    "              '夜孔雀':[9,39,8,'爱情片'],\n",
    "              '代理情人':[9,38,2,'爱情片'],\n",
    "              '新步步惊心':[8,34,17,'爱情片'],\n",
    "              '伦敦陷落':[2,3,55,'动作片']\n",
    "              }\n",
    "\n",
    "test_data = {'唐人街探案':[23,3,17]} "
   ]
  },
  {
   "cell_type": "code",
   "execution_count": 4,
   "metadata": {},
   "outputs": [],
   "source": [
    "train_df = pd.DataFrame(train_data).T\n",
    "train_df.columns = ['搞笑镜头','拥抱镜头','打斗镜头','电影类型']"
   ]
  },
  {
   "cell_type": "code",
   "execution_count": 5,
   "metadata": {},
   "outputs": [
    {
     "data": {
      "text/html": [
       "<div>\n",
       "<style scoped>\n",
       "    .dataframe tbody tr th:only-of-type {\n",
       "        vertical-align: middle;\n",
       "    }\n",
       "\n",
       "    .dataframe tbody tr th {\n",
       "        vertical-align: top;\n",
       "    }\n",
       "\n",
       "    .dataframe thead th {\n",
       "        text-align: right;\n",
       "    }\n",
       "</style>\n",
       "<table border=\"1\" class=\"dataframe\">\n",
       "  <thead>\n",
       "    <tr style=\"text-align: right;\">\n",
       "      <th></th>\n",
       "      <th>宝贝当家</th>\n",
       "      <th>美人鱼</th>\n",
       "      <th>澳门风云3</th>\n",
       "      <th>功夫熊猫3</th>\n",
       "      <th>谍影重重</th>\n",
       "      <th>叶问3</th>\n",
       "      <th>我的特工爷爷</th>\n",
       "      <th>奔爱</th>\n",
       "      <th>夜孔雀</th>\n",
       "      <th>代理情人</th>\n",
       "      <th>新步步惊心</th>\n",
       "      <th>伦敦陷落</th>\n",
       "    </tr>\n",
       "  </thead>\n",
       "  <tbody>\n",
       "    <tr>\n",
       "      <th>0</th>\n",
       "      <td>45</td>\n",
       "      <td>21</td>\n",
       "      <td>54</td>\n",
       "      <td>39</td>\n",
       "      <td>5</td>\n",
       "      <td>3</td>\n",
       "      <td>6</td>\n",
       "      <td>7</td>\n",
       "      <td>9</td>\n",
       "      <td>9</td>\n",
       "      <td>8</td>\n",
       "      <td>2</td>\n",
       "    </tr>\n",
       "    <tr>\n",
       "      <th>1</th>\n",
       "      <td>2</td>\n",
       "      <td>17</td>\n",
       "      <td>9</td>\n",
       "      <td>0</td>\n",
       "      <td>2</td>\n",
       "      <td>2</td>\n",
       "      <td>4</td>\n",
       "      <td>46</td>\n",
       "      <td>39</td>\n",
       "      <td>38</td>\n",
       "      <td>34</td>\n",
       "      <td>3</td>\n",
       "    </tr>\n",
       "    <tr>\n",
       "      <th>2</th>\n",
       "      <td>9</td>\n",
       "      <td>5</td>\n",
       "      <td>11</td>\n",
       "      <td>31</td>\n",
       "      <td>57</td>\n",
       "      <td>65</td>\n",
       "      <td>21</td>\n",
       "      <td>4</td>\n",
       "      <td>8</td>\n",
       "      <td>2</td>\n",
       "      <td>17</td>\n",
       "      <td>55</td>\n",
       "    </tr>\n",
       "    <tr>\n",
       "      <th>3</th>\n",
       "      <td>喜剧片</td>\n",
       "      <td>喜剧片</td>\n",
       "      <td>喜剧片</td>\n",
       "      <td>喜剧片</td>\n",
       "      <td>动作片</td>\n",
       "      <td>动作片</td>\n",
       "      <td>动作片</td>\n",
       "      <td>爱情片</td>\n",
       "      <td>爱情片</td>\n",
       "      <td>爱情片</td>\n",
       "      <td>爱情片</td>\n",
       "      <td>动作片</td>\n",
       "    </tr>\n",
       "  </tbody>\n",
       "</table>\n",
       "</div>"
      ],
      "text/plain": [
       "  宝贝当家  美人鱼 澳门风云3 功夫熊猫3 谍影重重  叶问3 我的特工爷爷   奔爱  夜孔雀 代理情人 新步步惊心 伦敦陷落\n",
       "0   45   21    54    39    5    3      6    7    9    9     8    2\n",
       "1    2   17     9     0    2    2      4   46   39   38    34    3\n",
       "2    9    5    11    31   57   65     21    4    8    2    17   55\n",
       "3  喜剧片  喜剧片   喜剧片   喜剧片  动作片  动作片    动作片  爱情片  爱情片  爱情片   爱情片  动作片"
      ]
     },
     "execution_count": 5,
     "metadata": {},
     "output_type": "execute_result"
    }
   ],
   "source": [
    "pd.DataFrame(train_data)"
   ]
  },
  {
   "cell_type": "code",
   "execution_count": 6,
   "metadata": {},
   "outputs": [
    {
     "data": {
      "text/html": [
       "<div>\n",
       "<style scoped>\n",
       "    .dataframe tbody tr th:only-of-type {\n",
       "        vertical-align: middle;\n",
       "    }\n",
       "\n",
       "    .dataframe tbody tr th {\n",
       "        vertical-align: top;\n",
       "    }\n",
       "\n",
       "    .dataframe thead th {\n",
       "        text-align: right;\n",
       "    }\n",
       "</style>\n",
       "<table border=\"1\" class=\"dataframe\">\n",
       "  <thead>\n",
       "    <tr style=\"text-align: right;\">\n",
       "      <th></th>\n",
       "      <th>0</th>\n",
       "      <th>1</th>\n",
       "      <th>2</th>\n",
       "      <th>3</th>\n",
       "    </tr>\n",
       "  </thead>\n",
       "  <tbody>\n",
       "    <tr>\n",
       "      <th>宝贝当家</th>\n",
       "      <td>45</td>\n",
       "      <td>2</td>\n",
       "      <td>9</td>\n",
       "      <td>喜剧片</td>\n",
       "    </tr>\n",
       "    <tr>\n",
       "      <th>美人鱼</th>\n",
       "      <td>21</td>\n",
       "      <td>17</td>\n",
       "      <td>5</td>\n",
       "      <td>喜剧片</td>\n",
       "    </tr>\n",
       "    <tr>\n",
       "      <th>澳门风云3</th>\n",
       "      <td>54</td>\n",
       "      <td>9</td>\n",
       "      <td>11</td>\n",
       "      <td>喜剧片</td>\n",
       "    </tr>\n",
       "    <tr>\n",
       "      <th>功夫熊猫3</th>\n",
       "      <td>39</td>\n",
       "      <td>0</td>\n",
       "      <td>31</td>\n",
       "      <td>喜剧片</td>\n",
       "    </tr>\n",
       "    <tr>\n",
       "      <th>谍影重重</th>\n",
       "      <td>5</td>\n",
       "      <td>2</td>\n",
       "      <td>57</td>\n",
       "      <td>动作片</td>\n",
       "    </tr>\n",
       "    <tr>\n",
       "      <th>叶问3</th>\n",
       "      <td>3</td>\n",
       "      <td>2</td>\n",
       "      <td>65</td>\n",
       "      <td>动作片</td>\n",
       "    </tr>\n",
       "    <tr>\n",
       "      <th>我的特工爷爷</th>\n",
       "      <td>6</td>\n",
       "      <td>4</td>\n",
       "      <td>21</td>\n",
       "      <td>动作片</td>\n",
       "    </tr>\n",
       "    <tr>\n",
       "      <th>奔爱</th>\n",
       "      <td>7</td>\n",
       "      <td>46</td>\n",
       "      <td>4</td>\n",
       "      <td>爱情片</td>\n",
       "    </tr>\n",
       "    <tr>\n",
       "      <th>夜孔雀</th>\n",
       "      <td>9</td>\n",
       "      <td>39</td>\n",
       "      <td>8</td>\n",
       "      <td>爱情片</td>\n",
       "    </tr>\n",
       "    <tr>\n",
       "      <th>代理情人</th>\n",
       "      <td>9</td>\n",
       "      <td>38</td>\n",
       "      <td>2</td>\n",
       "      <td>爱情片</td>\n",
       "    </tr>\n",
       "    <tr>\n",
       "      <th>新步步惊心</th>\n",
       "      <td>8</td>\n",
       "      <td>34</td>\n",
       "      <td>17</td>\n",
       "      <td>爱情片</td>\n",
       "    </tr>\n",
       "    <tr>\n",
       "      <th>伦敦陷落</th>\n",
       "      <td>2</td>\n",
       "      <td>3</td>\n",
       "      <td>55</td>\n",
       "      <td>动作片</td>\n",
       "    </tr>\n",
       "  </tbody>\n",
       "</table>\n",
       "</div>"
      ],
      "text/plain": [
       "         0   1   2    3\n",
       "宝贝当家    45   2   9  喜剧片\n",
       "美人鱼     21  17   5  喜剧片\n",
       "澳门风云3   54   9  11  喜剧片\n",
       "功夫熊猫3   39   0  31  喜剧片\n",
       "谍影重重     5   2  57  动作片\n",
       "叶问3      3   2  65  动作片\n",
       "我的特工爷爷   6   4  21  动作片\n",
       "奔爱       7  46   4  爱情片\n",
       "夜孔雀      9  39   8  爱情片\n",
       "代理情人     9  38   2  爱情片\n",
       "新步步惊心    8  34  17  爱情片\n",
       "伦敦陷落     2   3  55  动作片"
      ]
     },
     "execution_count": 6,
     "metadata": {},
     "output_type": "execute_result"
    }
   ],
   "source": [
    "pd.DataFrame(train_data).T"
   ]
  },
  {
   "cell_type": "code",
   "execution_count": 7,
   "metadata": {},
   "outputs": [
    {
     "data": {
      "text/html": [
       "<div>\n",
       "<style scoped>\n",
       "    .dataframe tbody tr th:only-of-type {\n",
       "        vertical-align: middle;\n",
       "    }\n",
       "\n",
       "    .dataframe tbody tr th {\n",
       "        vertical-align: top;\n",
       "    }\n",
       "\n",
       "    .dataframe thead th {\n",
       "        text-align: right;\n",
       "    }\n",
       "</style>\n",
       "<table border=\"1\" class=\"dataframe\">\n",
       "  <thead>\n",
       "    <tr style=\"text-align: right;\">\n",
       "      <th></th>\n",
       "      <th>搞笑镜头</th>\n",
       "      <th>拥抱镜头</th>\n",
       "      <th>打斗镜头</th>\n",
       "      <th>电影类型</th>\n",
       "    </tr>\n",
       "  </thead>\n",
       "  <tbody>\n",
       "    <tr>\n",
       "      <th>宝贝当家</th>\n",
       "      <td>45</td>\n",
       "      <td>2</td>\n",
       "      <td>9</td>\n",
       "      <td>喜剧片</td>\n",
       "    </tr>\n",
       "    <tr>\n",
       "      <th>美人鱼</th>\n",
       "      <td>21</td>\n",
       "      <td>17</td>\n",
       "      <td>5</td>\n",
       "      <td>喜剧片</td>\n",
       "    </tr>\n",
       "    <tr>\n",
       "      <th>澳门风云3</th>\n",
       "      <td>54</td>\n",
       "      <td>9</td>\n",
       "      <td>11</td>\n",
       "      <td>喜剧片</td>\n",
       "    </tr>\n",
       "    <tr>\n",
       "      <th>功夫熊猫3</th>\n",
       "      <td>39</td>\n",
       "      <td>0</td>\n",
       "      <td>31</td>\n",
       "      <td>喜剧片</td>\n",
       "    </tr>\n",
       "    <tr>\n",
       "      <th>谍影重重</th>\n",
       "      <td>5</td>\n",
       "      <td>2</td>\n",
       "      <td>57</td>\n",
       "      <td>动作片</td>\n",
       "    </tr>\n",
       "    <tr>\n",
       "      <th>叶问3</th>\n",
       "      <td>3</td>\n",
       "      <td>2</td>\n",
       "      <td>65</td>\n",
       "      <td>动作片</td>\n",
       "    </tr>\n",
       "    <tr>\n",
       "      <th>我的特工爷爷</th>\n",
       "      <td>6</td>\n",
       "      <td>4</td>\n",
       "      <td>21</td>\n",
       "      <td>动作片</td>\n",
       "    </tr>\n",
       "    <tr>\n",
       "      <th>奔爱</th>\n",
       "      <td>7</td>\n",
       "      <td>46</td>\n",
       "      <td>4</td>\n",
       "      <td>爱情片</td>\n",
       "    </tr>\n",
       "    <tr>\n",
       "      <th>夜孔雀</th>\n",
       "      <td>9</td>\n",
       "      <td>39</td>\n",
       "      <td>8</td>\n",
       "      <td>爱情片</td>\n",
       "    </tr>\n",
       "    <tr>\n",
       "      <th>代理情人</th>\n",
       "      <td>9</td>\n",
       "      <td>38</td>\n",
       "      <td>2</td>\n",
       "      <td>爱情片</td>\n",
       "    </tr>\n",
       "    <tr>\n",
       "      <th>新步步惊心</th>\n",
       "      <td>8</td>\n",
       "      <td>34</td>\n",
       "      <td>17</td>\n",
       "      <td>爱情片</td>\n",
       "    </tr>\n",
       "    <tr>\n",
       "      <th>伦敦陷落</th>\n",
       "      <td>2</td>\n",
       "      <td>3</td>\n",
       "      <td>55</td>\n",
       "      <td>动作片</td>\n",
       "    </tr>\n",
       "  </tbody>\n",
       "</table>\n",
       "</div>"
      ],
      "text/plain": [
       "       搞笑镜头 拥抱镜头 打斗镜头 电影类型\n",
       "宝贝当家     45    2    9  喜剧片\n",
       "美人鱼      21   17    5  喜剧片\n",
       "澳门风云3    54    9   11  喜剧片\n",
       "功夫熊猫3    39    0   31  喜剧片\n",
       "谍影重重      5    2   57  动作片\n",
       "叶问3       3    2   65  动作片\n",
       "我的特工爷爷    6    4   21  动作片\n",
       "奔爱        7   46    4  爱情片\n",
       "夜孔雀       9   39    8  爱情片\n",
       "代理情人      9   38    2  爱情片\n",
       "新步步惊心     8   34   17  爱情片\n",
       "伦敦陷落      2    3   55  动作片"
      ]
     },
     "execution_count": 7,
     "metadata": {},
     "output_type": "execute_result"
    }
   ],
   "source": [
    "train_df"
   ]
  },
  {
   "cell_type": "code",
   "execution_count": 10,
   "metadata": {},
   "outputs": [
    {
     "data": {
      "text/plain": [
       "{'唐人街探案': [23, 3, 17]}"
      ]
     },
     "execution_count": 10,
     "metadata": {},
     "output_type": "execute_result"
    }
   ],
   "source": [
    "test_data"
   ]
  },
  {
   "cell_type": "code",
   "execution_count": 8,
   "metadata": {},
   "outputs": [],
   "source": [
    "K = 5\n",
    "movie = '唐人街探案'"
   ]
  },
  {
   "cell_type": "code",
   "execution_count": 11,
   "metadata": {},
   "outputs": [
    {
     "data": {
      "text/plain": [
       "array([23,  3, 17])"
      ]
     },
     "execution_count": 11,
     "metadata": {},
     "output_type": "execute_result"
    }
   ],
   "source": [
    "np.array(test_data[movie])"
   ]
  },
  {
   "cell_type": "code",
   "execution_count": 9,
   "metadata": {},
   "outputs": [],
   "source": [
    "distance_list = []\n",
    "for train_X in train_df.values[:,:-1]:\n",
    "    test_X = np.array(test_data[movie])\n",
    "    distance_list.append(euclidean_distance(train_X,test_X))"
   ]
  },
  {
   "cell_type": "code",
   "execution_count": 13,
   "metadata": {},
   "outputs": [],
   "source": [
    "distance_df = pd.DataFrame({\"欧式距离\":distance_list},index=train_df.index)\n",
    "result = pd.concat([train_df,distance_df],axis=1).sort_values(by=\"欧式距离\")"
   ]
  },
  {
   "cell_type": "code",
   "execution_count": 14,
   "metadata": {},
   "outputs": [
    {
     "data": {
      "text/html": [
       "<div>\n",
       "<style scoped>\n",
       "    .dataframe tbody tr th:only-of-type {\n",
       "        vertical-align: middle;\n",
       "    }\n",
       "\n",
       "    .dataframe tbody tr th {\n",
       "        vertical-align: top;\n",
       "    }\n",
       "\n",
       "    .dataframe thead th {\n",
       "        text-align: right;\n",
       "    }\n",
       "</style>\n",
       "<table border=\"1\" class=\"dataframe\">\n",
       "  <thead>\n",
       "    <tr style=\"text-align: right;\">\n",
       "      <th></th>\n",
       "      <th>搞笑镜头</th>\n",
       "      <th>拥抱镜头</th>\n",
       "      <th>打斗镜头</th>\n",
       "      <th>电影类型</th>\n",
       "      <th>欧式距离</th>\n",
       "    </tr>\n",
       "  </thead>\n",
       "  <tbody>\n",
       "    <tr>\n",
       "      <th>我的特工爷爷</th>\n",
       "      <td>6</td>\n",
       "      <td>4</td>\n",
       "      <td>21</td>\n",
       "      <td>动作片</td>\n",
       "      <td>17.492856</td>\n",
       "    </tr>\n",
       "    <tr>\n",
       "      <th>美人鱼</th>\n",
       "      <td>21</td>\n",
       "      <td>17</td>\n",
       "      <td>5</td>\n",
       "      <td>喜剧片</td>\n",
       "      <td>18.547237</td>\n",
       "    </tr>\n",
       "    <tr>\n",
       "      <th>功夫熊猫3</th>\n",
       "      <td>39</td>\n",
       "      <td>0</td>\n",
       "      <td>31</td>\n",
       "      <td>喜剧片</td>\n",
       "      <td>21.470911</td>\n",
       "    </tr>\n",
       "    <tr>\n",
       "      <th>宝贝当家</th>\n",
       "      <td>45</td>\n",
       "      <td>2</td>\n",
       "      <td>9</td>\n",
       "      <td>喜剧片</td>\n",
       "      <td>23.430749</td>\n",
       "    </tr>\n",
       "    <tr>\n",
       "      <th>澳门风云3</th>\n",
       "      <td>54</td>\n",
       "      <td>9</td>\n",
       "      <td>11</td>\n",
       "      <td>喜剧片</td>\n",
       "      <td>32.140317</td>\n",
       "    </tr>\n",
       "    <tr>\n",
       "      <th>新步步惊心</th>\n",
       "      <td>8</td>\n",
       "      <td>34</td>\n",
       "      <td>17</td>\n",
       "      <td>爱情片</td>\n",
       "      <td>34.438351</td>\n",
       "    </tr>\n",
       "    <tr>\n",
       "      <th>夜孔雀</th>\n",
       "      <td>9</td>\n",
       "      <td>39</td>\n",
       "      <td>8</td>\n",
       "      <td>爱情片</td>\n",
       "      <td>39.661064</td>\n",
       "    </tr>\n",
       "    <tr>\n",
       "      <th>代理情人</th>\n",
       "      <td>9</td>\n",
       "      <td>38</td>\n",
       "      <td>2</td>\n",
       "      <td>爱情片</td>\n",
       "      <td>40.570926</td>\n",
       "    </tr>\n",
       "    <tr>\n",
       "      <th>伦敦陷落</th>\n",
       "      <td>2</td>\n",
       "      <td>3</td>\n",
       "      <td>55</td>\n",
       "      <td>动作片</td>\n",
       "      <td>43.416587</td>\n",
       "    </tr>\n",
       "    <tr>\n",
       "      <th>谍影重重</th>\n",
       "      <td>5</td>\n",
       "      <td>2</td>\n",
       "      <td>57</td>\n",
       "      <td>动作片</td>\n",
       "      <td>43.874822</td>\n",
       "    </tr>\n",
       "    <tr>\n",
       "      <th>奔爱</th>\n",
       "      <td>7</td>\n",
       "      <td>46</td>\n",
       "      <td>4</td>\n",
       "      <td>爱情片</td>\n",
       "      <td>47.686476</td>\n",
       "    </tr>\n",
       "    <tr>\n",
       "      <th>叶问3</th>\n",
       "      <td>3</td>\n",
       "      <td>2</td>\n",
       "      <td>65</td>\n",
       "      <td>动作片</td>\n",
       "      <td>52.009614</td>\n",
       "    </tr>\n",
       "  </tbody>\n",
       "</table>\n",
       "</div>"
      ],
      "text/plain": [
       "       搞笑镜头 拥抱镜头 打斗镜头 电影类型       欧式距离\n",
       "我的特工爷爷    6    4   21  动作片  17.492856\n",
       "美人鱼      21   17    5  喜剧片  18.547237\n",
       "功夫熊猫3    39    0   31  喜剧片  21.470911\n",
       "宝贝当家     45    2    9  喜剧片  23.430749\n",
       "澳门风云3    54    9   11  喜剧片  32.140317\n",
       "新步步惊心     8   34   17  爱情片  34.438351\n",
       "夜孔雀       9   39    8  爱情片  39.661064\n",
       "代理情人      9   38    2  爱情片  40.570926\n",
       "伦敦陷落      2    3   55  动作片  43.416587\n",
       "谍影重重      5    2   57  动作片  43.874822\n",
       "奔爱        7   46    4  爱情片  47.686476\n",
       "叶问3       3    2   65  动作片  52.009614"
      ]
     },
     "execution_count": 14,
     "metadata": {},
     "output_type": "execute_result"
    }
   ],
   "source": [
    "result"
   ]
  },
  {
   "cell_type": "code",
   "execution_count": 15,
   "metadata": {},
   "outputs": [
    {
     "name": "stdout",
     "output_type": "stream",
     "text": [
      "唐人街探案 喜剧片\n"
     ]
    }
   ],
   "source": [
    "d = Counter(result.head(K)['电影类型'])\n",
    "print(movie,max(d,key=d.get))"
   ]
  },
  {
   "cell_type": "code",
   "execution_count": 16,
   "metadata": {},
   "outputs": [
    {
     "name": "stdout",
     "output_type": "stream",
     "text": [
      "{'red': 2, 'blue': 3, 'green': 1}\n"
     ]
    }
   ],
   "source": [
    "from collections import Counter\n",
    "colors = ['red', 'blue', 'red', 'green', 'blue', 'blue']\n",
    "c = Counter(colors)\n",
    "print (dict(c))"
   ]
  },
  {
   "cell_type": "code",
   "execution_count": 17,
   "metadata": {},
   "outputs": [
    {
     "data": {
      "text/plain": [
       "Counter({'动作片': 1, '喜剧片': 4})"
      ]
     },
     "execution_count": 17,
     "metadata": {},
     "output_type": "execute_result"
    }
   ],
   "source": [
    "d"
   ]
  },
  {
   "cell_type": "code",
   "execution_count": 18,
   "metadata": {},
   "outputs": [
    {
     "data": {
      "text/plain": [
       "我的特工爷爷    动作片\n",
       "美人鱼       喜剧片\n",
       "功夫熊猫3     喜剧片\n",
       "宝贝当家      喜剧片\n",
       "澳门风云3     喜剧片\n",
       "Name: 电影类型, dtype: object"
      ]
     },
     "execution_count": 18,
     "metadata": {},
     "output_type": "execute_result"
    }
   ],
   "source": [
    "result.head(K)['电影类型']"
   ]
  },
  {
   "cell_type": "code",
   "execution_count": 19,
   "metadata": {},
   "outputs": [
    {
     "data": {
      "text/plain": [
       "'喜剧片'"
      ]
     },
     "execution_count": 19,
     "metadata": {},
     "output_type": "execute_result"
    }
   ],
   "source": [
    "max(d)"
   ]
  },
  {
   "cell_type": "code",
   "execution_count": 20,
   "metadata": {},
   "outputs": [
    {
     "data": {
      "text/plain": [
       "[('喜剧片', 4)]"
      ]
     },
     "execution_count": 20,
     "metadata": {},
     "output_type": "execute_result"
    }
   ],
   "source": [
    "d.most_common(1)"
   ]
  },
  {
   "cell_type": "code",
   "execution_count": null,
   "metadata": {},
   "outputs": [],
   "source": []
  }
 ],
 "metadata": {
  "kernelspec": {
   "display_name": "Python 3",
   "language": "python",
   "name": "python3"
  },
  "language_info": {
   "codemirror_mode": {
    "name": "ipython",
    "version": 3
   },
   "file_extension": ".py",
   "mimetype": "text/x-python",
   "name": "python",
   "nbconvert_exporter": "python",
   "pygments_lexer": "ipython3",
   "version": "3.7.6"
  }
 },
 "nbformat": 4,
 "nbformat_minor": 4
}
